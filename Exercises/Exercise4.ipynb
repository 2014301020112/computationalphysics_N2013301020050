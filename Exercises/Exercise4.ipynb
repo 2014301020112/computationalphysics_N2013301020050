{
 "cells": [
  {
   "cell_type": "markdown",
   "metadata": {},
   "source": [
    "# Exercise 4\n",
    "\n",
    "## Abstract\n",
    "\n",
    "Although it has been the ultimate goal for scientists to find the analytical solution of the nature, some complicated sysyems still hinder people from this dream in which circumstances numerical methods are necessary. Ordinary differential equations are good practice for us to get familiar with the numerical methods, for we can compare our result with the known analytical solution. In this problem, we consider a system in which The errors for ingoring high rank differentiation may sometimes make such methods invalid, so various initial conditions and parameters are discussed to examine the rubusty of the method and the sensitivity of the parameters.\n",
    "\n",
    "## Background\n",
    "\n",
    "### Ordinary Differential Equation \\[1\\]\n",
    "\n",
    "The categories of equations are based on the type of known quantities and the calculation on the unknown quantities. The equations are called algebraic equtions or transcedent equations if the unknown quantities are numbers. An equation is called a function equation if the unknown quantity is a function. It is called a differential equation if there are derivative or differential in an equation, among which the ones containing functions with only one variables are called the ordinary differential equations.\n",
    "\n",
    "And as is proven, the theorem about the existence and uniqueness of the solution says for a differential equation $\\frac{dy}{dx}=f(x,y)$\n",
    "with the boundary condition $y(x_0)=y_0$, the solution exists and is unique if in the region \n",
    "$$R:x_0 -a \\leq x \\leq x_0 + a,\\ y_0 -b \\leq y \\leq y_0+b $$\n",
    "(1) f(x,y) is continuous.<br>\n",
    "(2) f(x,y) satisfies the Lipschitz condition about y, which means for any pair of points $(x,y)$ and $(x,\\bar y)$, there exists N such that \n",
    "$$|f(x,y)-f(x, \\bar y)| \\leq N |y-\\bar y|$$\n",
    "This theorem provides us with confidence about the solution we find. Once it satisfys the differential conditions of thq equation, it much be the correct and the only correct solution.\n",
    "\n",
    "### Euler Methods\n",
    "\n",
    "As we know, any real or complex function that can be differentiated to infinite orders at point $x_0$ can be represented as an infinite sum of about the differentials like\n",
    "$$f(x)=\\sum_{n=0}^\\infty \\frac{f^{(n)}(x_0)}{n!}(x-x_0)^n=x_0+f'(x_0)(x-x_0)+\\frac{1}{2}f''(x_0)(x-x_0)^2+...$$\n",
    "This theorem has provided us with a way to approximate a function in forms of a poynomial function, which can be easily calculated in computers. \\[2\\]\\[3\\]Especially, if we ignore the differentials greater than the  second order, which means\n",
    "$$f(x) \\approx f(x_0)+\\frac{df(x_0)}{dx}(x-x_0)$$\n",
    "This method to figure out the approximate solution is called the Euler method.   \n",
    "Suppose the function $f(x,y)$ is  continuous and bounded in the region $a \\leq b, |y| <\\infty$,then $f(x,y)$ determines a direction field. To get the approximate solution of the ordinary equation with boundary condition \n",
    "$$\n",
    "\\begin{array}{ll} \\frac{dy}{dx}=f(x,y) \\\\ y(x_0)=y_0 \\end{array} \n",
    "$$\n",
    "divide the interval $[x_0,b]$ into n equal pieces,and the dividing points are \n",
    "$$x_k=x_0+kh,\\ \\ k=0,1,...,n$$\n",
    "$$h-\\frac{b-x_0}{n},\\ \\ x_n=b$$\n",
    "Because the tangent of the solution at the point $(x_0,y_0)$ should be f(x_0,y_0), we use the straight line passing (x_0,y_0) with the tangent f(x_0,y_0) as an approximaiton of the curve. The function of the straight line is\n",
    "$$y=y_0+f(x_0,y_0)(x-x_0)$$\n",
    "And the y-coordinate $y_1$ of the straight line at the point $x_0$ should be\n",
    "$$y_1=y_0+f(x_0,y_0)(x_1-x_0)=y_0+f(x_0,y_0)h$$\n",
    "If $h$ is very small, then $y_1 \\approx y(x_1)$, thus the point $(x_1,y_1)$ is fairly close to the point on the solution curve. If $f(x,y)$ is continuous, then the straight line starting from $(x_1,y_1)$ approximates the solution curve， with the function\n",
    "$$y=y_1+f(x_1,y_1)(x-x_1)$$\n",
    "And the y-coordinate of the end of this straight line is \n",
    "$$y_2=y_1+f(x_1,y_1)(x_2-x_1)$$\n",
    "And the rest can be done in the same manner, \n",
    "$$y_k=y_{k-1}+f(x_{k-1},y_{n-1})(x_{k}-x{k-1})$$\n",
    "Since the function of every straight line is known, so for every point in the interval $[x_0,b]$, we can figure out the approxiamtion of the solution $y=y(x)$. And the fold line as the approximation of the solution is called the Euler Fold Line. It can be proven that when $n$ approaches infinity and $h$ approaches zero, the Euler fold line approaches the solution. \\[1\\]\n",
    "\n",
    "### Sensitivity and Robustness of Parameters \\[4\\]\n",
    "\n",
    "What we have and will be doing in this exercise has little to do with first principles of physics. Rather, they are just methematical modelling problems. As a result, it is necessary to discuss the sensitivity and robustness, two of the essential concepts in mathematical modelling. \n",
    "\n",
    "To set up a model describing a phenomenon, parameters play an important role in the final results of the model. These parameters are obtained from measurements, observations, and sometimes even by guess. So the inaccuracy of the data must be taken into consideration. Usually, for a certain extent of change of a parameter, the variable will change correspondingly. For the parameter $r$ and the variable $x$, \n",
    "$$\\lim_{\\Delta r \\rightarrow 0}\\frac{\\Delta x / x}{\\Delta r / r}=\\frac{dx}{dr} \\frac{r}{x}$$\n",
    "And we call this limit the _sensitivity_ of $x$ about $r$\n",
    "\n",
    "A mathematical model is called _robust_ if the result is still correct even if the model is not absolutely accurate. Sensitivity is a kind of index to evaluate the robustness of the model based on the data. Other assumptions will also be examined to ensure the robustness.\n",
    "\n",
    "In most questions after Chapter 1 of our textbook, we have been informed of the models to use and only have to realize the model through Python and cast the parameters into the program. So the sensitivity and robustness of our parameters become important.\n",
    "\n",
    "### Imaging with Python  \n",
    "\n",
    "It is convenient to draw plots with Python, since there have been the powerful packages `numpy` and `matplotlib`.\n",
    "\n",
    "`numpy` is a package that can deal with the discrete calculations that will be used in the ploting. Not only can it create number lists with the function `arrange` and `linspace`, it also contains the general math functions like the triangluar function `sin` `cos`.\\[5\\]\n",
    "\n",
    "`matplotlib` is the package that deal with the representation of plots. \\[6\\] Through the internal functions we can easily And other information about this package and the rebellish of pots can be found [here](http://www.labri.fr/perso/nrougier/teaching/matplotlib/).\n",
    "\n",
    "## Program   \n",
    "\n",
    "### Problem 1.5   \n",
    "\n",
    "> Consider again a decay problem with two types of nuclei A and B, but now suppose that nuclei of typw A decay into type B, while nuclei of type B decay into type A. Strictly speaking, this is not a \"decay\" process, since it is possible for the type B nuclei to turn back into type A. A better analogy would be a resonance in which a system can tunnel or move back and forth between two states A and B which have equal energies. The corresponding rate equations are\n",
    "> $$\\frac{dN_A}{dt}=\\frac{N_B}{\\tau}-\\frac{N_A}{\\tau}$$\n",
    "> $$\\frac{dN_B}{dt}=\\frac{N_A}{\\tau}-\\frac{N_B}{\\tau}$$\n",
    "> where for simplicity we have assumed that the two types of decay are characterized by the same time constant $\\tau$. Solve the system of equations for the numbers of nuclei, $N_A,N_B$ as functions of time. Consider different initial confitions, such as $N_A=100,\\ N_B=0$ etc, and take $\\tau=1s$. Show that your numerical results are consistent with the idea that the system reaches a steady state in which $N_A,N_B$ are constant. In such a steady state, the time derivatives $dN_A / dt,\\ dN_B / dt$ should vanish.\n",
    "\n",
    "### Declear and Initialize Variables and Parameters   \n",
    "\n",
    "Apparently the decay constants of A and B are important parameters. Here we have assumed that the two parameters equal. However, they do not necessarily have to be, so we declear `$\\tau_A$` and `$\\tau_B$` as separate parameters and initialize them with the same quantity.   \n",
    "Another parameter is the time interval for the Euler fold line to approximate the \"true\" solution of the equations. Apparently the smaller this parameter `dt` is, the closer our numerical solution will approach the true solution, but the slower the program will be. For convenience we set $dt\\ =\\ 0.1\\ second$ and will examine the effect of it value in the `Discussion` section.    \n",
    "And as an intuition, the system will become stable after certain amount of time. So we need a parameter `timescale` to control the time we want the system to develop.\n",
    "\n",
    "As for the variables, the solutions are the function $N_A(t)$ and $N_B(t)$. So we need two lists to store the value of $N_A$ and $N_B$ and a time list which has the same length of $N_A$ and $N_B$. The initial conditions are initialized as the first element of the lists."
   ]
  },
  {
   "cell_type": "code",
   "execution_count": 4,
   "metadata": {
    "collapsed": true
   },
   "outputs": [],
   "source": [
    "tau=1\n",
    "tau_A=tau\n",
    "tau_B=tau\n",
    "dt=0.01\n",
    "timescale=5\n",
    "\n",
    "N_A=[100]  # the initial value of A\n",
    "N_B=[0]    # the initial value of B\n",
    "dN_A=[]    # \n",
    "dN_B=[]    # \n",
    "t=[0]      # to equate the length of t with A and B"
   ]
  },
  {
   "cell_type": "markdown",
   "metadata": {},
   "source": [
    "### Calculation   \n",
    "\n",
    "The algorithm of the problem is straightforward. We set up a cycle in which the new $N_A$ and $N_B$ value is obtained from the value of $N_A$ and $N_B$ before the time interval plus the product of the time interval and the derivative of $N_A$ and $N_B$ versus time."
   ]
  },
  {
   "cell_type": "code",
   "execution_count": 5,
   "metadata": {
    "collapsed": true
   },
   "outputs": [],
   "source": [
    "for cycle in range(int(timescale/dt)):\n",
    "    newNA=N_A[cycle]+(N_B[cycle]/tau_B-N_A[cycle]/tau_A)*dt\n",
    "    newNB=N_B[cycle]+(N_A[cycle]/tau_A-N_B[cycle]/tau_B)*dt\n",
    "    newtime=t[cycle]+dt\n",
    "    N_A.append(newNA)\n",
    "    N_B.append(newNB)\n",
    "    dN_A.append(N_B[cycle]/tau_B-N_A[cycle]/tau_A)\n",
    "    dN_B.append(N_A[cycle]/tau_A-N_B[cycle]/tau_B)\n",
    "    t.append(newtime)\n",
    "dN_A.append(dN_A[-1])\n",
    "dN_B.append(dN_B[-1])"
   ]
  },
  {
   "cell_type": "markdown",
   "metadata": {},
   "source": [
    "### Represent and Restore the Results   \n",
    "\n",
    "Since the function $N_A$ and $N_B$ has been stored into the lists, we can plot them with the help of package `matplotlib`\n",
    "\n"
   ]
  },
  {
   "cell_type": "code",
   "execution_count": 6,
   "metadata": {
    "collapsed": false
   },
   "outputs": [],
   "source": [
    "import math\n",
    "import numpy as np\n",
    "import matplotlib.pyplot as plt\n",
    "\n",
    "# size of figure\n",
    "plt.figure(figsize=(16,12),dpi=80)\n",
    "plt.subplot(111)\n",
    "\n",
    "# plot the line, color, width, style\n",
    "plt.plot(t, N_A, color=\"blue\", linewidth=2.0, linestyle=\"-\", label=\"$N_A(t)$\")\n",
    "plt.plot(t, N_B, color=\"red\", linewidth=2.0, linestyle=\"-\", label=\"$N_B(t)$\")\n",
    "plt.plot(t, dN_A, color=\"blue\", linewidth=2.0, linestyle=\"--\", label=\"$d\\ N_A(t)/dt$\")\n",
    "plt.plot(t, dN_B, color=\"red\", linewidth=2.0, linestyle=\"--\", label=\"$d\\ N_B(t)/dt$\")\n",
    "\n",
    "# limits and ticks\n",
    "plt.xlim(min(t),max(t))\n",
    "plt.xticks([0,1,2,3,4,5])\n",
    "alldata=N_A+N_B\n",
    "plt.ylim(min(alldata), max(alldata))\n",
    "plt.yticks([0,20,40,60,80,100,120])\n",
    "plt.legend(loc=\"upper right\", frameon=False)\n",
    "\n",
    "# save and show figures in the tablet\n",
    "plt.show()"
   ]
  },
  {
   "cell_type": "markdown",
   "metadata": {},
   "source": [
    "![4_1](https://raw.githubusercontent.com/ShixingWang/computationalphysics_N2013301020050/master/Pictures/4_1.png)"
   ]
  },
  {
   "cell_type": "markdown",
   "metadata": {},
   "source": [
    "## Discussion   \n",
    "\n",
    "### Comparasion with Analytical Solution   \n",
    "\n",
    "According to the eigenvector mathod we can solve such ordinary differential equations fairly easily. For the equations with the boundary conditions\n",
    "$$\\begin{array}{llll}\\frac{dN_A}{dt}=\\frac{N_B}{\\tau_2}-\\frac{N_A}{\\tau_1}\\\\\n",
    "\\frac{dN_B}{dt}=\\frac{N_A}{\\tau_1}-\\frac{N_B}{\\tau_2}\\\\\n",
    "N_A(0)=N_{A_0}\\\\\n",
    "N_B(0)=N_{B_0}\\end{array}$$\n",
    "The analytical solution would be\n",
    "$$\\begin{array}{ll}N_A(t)= \\frac{(N_{A_0}+N_{B_0})\\tau_1}{\\tau_1+\\tau_2}+\\frac{-N_{B_0}\\tau_1+N_{A_0}\\tau_2}{\\tau_1+\\tau_2}e^{-(\\frac{1}{\\tau_1}+\\frac{1}{\\tau_2})t}\\\\\n",
    "N_B(t)= \\frac{(N_{A_0}+N_{B_0})\\tau_2}{\\tau_1+\\tau_2}+\\frac{N_{B_0}\\tau_1-N_{A_0}\\tau_2}{\\tau_1+\\tau_2}e^{-(\\frac{1}{\\tau_1}+\\frac{1}{\\tau_2})t}\\end{array}$$\n",
    "\n",
    "This means the tendency of $N_A(t)$ and $N_B(t)$ depends on which of the two quantities $N_{B_0}\\tau_1$ and $N_{A_0}\\tau_2$ is greater. If the former is greater, then $N_A(t)$ decreases and $N_B(t)$ increases, and vice versa. So there are four possible endings for this system.\n",
    "\n",
    "* $N_{A_0} > N_{B_0}$ and $N_{A_0}\\tau_2 > N_{B_0}\\tau_1$    \n",
    "    A overnumbers B and more B decays into A as time goes by, leading to a situation where there is only A existing.    \n",
    "\n",
    "* $N_{A_0} > N_{B_0}$ and $N_{A_0}\\tau_2 < N_{B_0}\\tau_1$ \n",
    "    A overnumbers B but more B decays into A as time goes by, leading to a situation where A and B coexist.\n",
    "    \n",
    "* $N_{A_0} < N_{B_0}$ and $N_{A_0}\\tau_2 > N_{B_0}\\tau_1$ \n",
    "    B overnumbers A but more A decays into B as time goes by, leading to a situation where A and B coexist.\n",
    "\n",
    "* $N_{A_0} < N_{B_0}$ and $N_{A_0}\\tau_2 < N_{B_0}\\tau_1$ \n",
    "    B overnumbers A and more A decays into B as time goes by, leading to a situation where there is only B existing.\n",
    "\n",
    "### Sensitivity Analysis   \n",
    "\n",
    "### Robustness Analysis   \n",
    "\n",
    "## Acknowledgement\n",
    "\n",
    "I must give my gratitude to FC Bayern Munchen for their exciting victory in Anllian Areana against Juventus. \n",
    "\n",
    "##### MIA SAN MIA!\n",
    "\n",
    "## Reference   \n",
    "\n",
    "[1] 常微分方程\n",
    "[2] 高等数学\n",
    "[3] 维基百科，泰勒级数\n",
    "[4] 数学建模\n",
    "[5] baidu文库中的matplotlib教程\n",
    "[6] 官方matplotlib tutorial"
   ]
  },
  {
   "cell_type": "code",
   "execution_count": null,
   "metadata": {
    "collapsed": true
   },
   "outputs": [],
   "source": []
  }
 ],
 "metadata": {
  "kernelspec": {
   "display_name": "Python 2",
   "language": "python",
   "name": "python2"
  },
  "language_info": {
   "codemirror_mode": {
    "name": "ipython",
    "version": 2
   },
   "file_extension": ".py",
   "mimetype": "text/x-python",
   "name": "python",
   "nbconvert_exporter": "python",
   "pygments_lexer": "ipython2",
   "version": "2.7.11"
  }
 },
 "nbformat": 4,
 "nbformat_minor": 0
}
