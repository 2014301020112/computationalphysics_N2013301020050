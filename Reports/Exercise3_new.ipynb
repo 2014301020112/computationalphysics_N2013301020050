{
 "cells": [
  {
   "cell_type": "markdown",
   "metadata": {},
   "source": [
    "> First written with [作业部落](https://www.zybuluo.com/ShixingWang/note/311331).\n",
    "\n",
    "> Undated on March 15, 2016 with [Jupyter](http://jupyter.org)\n",
    "\n",
    "# Exercise 3\n",
    "\n",
    "## Abstract\n",
    "\n",
    "The monitor is one of the most important output devices of computers[\\[1\\]](#jump1) and the graphic processing has been paid great attention in both hardware and software industry.[\\[2\\]](#jump2)[\\[3\\]](#jump3) In this exercise we managed to show the our name on the pixel lattice, and additionally, arbitrary charater strings. The highest level of this project is to show an animation on the screen. My project owns the advantage of the ability to changge lines if the string is too long, although failing to notice the usage of the dictionary prevents from showing punctions. [\\[4\\]](#jump4) And on the update on March 15, a dictionary got established to match the character the users input with the variables inside the program, enabling this project to show the punctuations and blank.\n",
    "\n",
    "## Background\n",
    "\n",
    "Although different monitors use various imaging materials like LCD, LED and so on, the rudiment of monitors is just a panel with million small pixels that can emit lights of various colors and various brightness, which involves discipines like vision perception that has little relation with this course. [\\[1\\]][cite1][\\[3\\]][cite3] To determine when and which color to show on the screen, the computer has to process large amount of calcuation simultaneusly, which led to the independence of GPU from CPU and the rapid advance of GPU since then.[\\[2\\]][cite2] In this exercise we simplify the monitor into a dot matrix by ignoring the color and brightness of pixels, showing patterns in a binary way of either blank or \"#\". \n",
    "\n",
    "## Code and Result\n",
    "\n",
    "### General Codes\n",
    "\n",
    "First I designed each character with a list of length 12. And since the name of variables cannot be void I defined '\\_' to take the place of\n",
    "blank."
   ]
  },
  {
   "cell_type": "code",
   "execution_count": null,
   "metadata": {
    "collapsed": true
   },
   "outputs": [],
   "source": [
    "A=[\"   #   \",\"  # #  \",\" #   # \",\" #   # \",\" ##### \",\" #   # \",\" #   # \",\" #   # \",\" #   # \",\"       \",\"       \",\"       \"]\n",
    "B=[' ####  ', ' #   # ', ' #   # ',' #   # ', ' ####  ', ' #   # ', ' #   # ', ' #   # ', ' ####  ', '       ', '       ', '       ']\n",
    "C=['  ###  ',' #   # ',' #     ',' #     ',' #     ',' #     ',' #     ',' #   # ','  ###  ','       ','       ','       ']\n",
    "D=[' ###   ',' #  #  ',' #   # ',' #   # ',' #   # ',' #   # ',' #   # ',' #  #  ',' ###   ','       ','       ','       ']\n",
    "E=[' ##### ',' #     ',' #     ',' #     ',' ##### ',' #     ',' #     ',' #     ',' ##### ','       ','       ','       ']\n",
    "F=[' ##### ',' #     ',' #    ',' #     ',' ##### ',' #     ',' #     ',' #     ',' #     ','       ','       ','       ']\n",
    "G=['  ###  ',' #   # ',' #     ',' #     ',' # ### ',' #   # ',' #   # ',' #  ## ','  ## # ','       ','       ','       ']\n",
    "H=[' #   # ',' #   # ',' #   # ',' #   # ',' ##### ',' #   # ',' #   # ',' #   # ',' #   # ','       ','       ','       ']\n",
    "I=[' ##### ','   #   ','   #   ','   #   ','   #   ','   #   ','   #   ','   #   ',' ##### ','       ','       ','       ']\n",
    "J=['    ## ','     # ','     # ','     # ','     # ','     # ','     # ',' #   # ','  ###  ','       ','       ','       ']\n",
    "K=[' #   # ',' #   # ',' #  #  ',' # #   ',' ##    ',' # #   ',' #  #  ',' #   # ',' #   # ','       ','       ','       ']\n",
    "L=[' #     ',' #     ',' #     ',' #     ',' #     ',' #     ',' #     ',' #     ',' ##### ','       ','       ','       ']\n",
    "M=['#     #','##   ##','# # # #','#  #  #','#     #','#     #','#     #','#     #','#     #','       ','       ','       ']\n",
    "N=[' #   # ',' ##  # ',' ##  # ',' # # # ',' # # # ',' # # # ',' #  ## ',' #  ## ',' #   # ','       ','       ','       ']\n",
    "O=['  ###  ',' #   # ',' #   # ',' #   # ',' #   # ',' #   # ',' #   # ',' #   # ','  ###  ','       ','       ','       ']\n",
    "P=[' ####  ',' #   # ',' #   # ',' #   # ',' ####  ',' #     ',' #     ',' #     ',' #     ','','','']\n",
    "Q=['  ###  ',' #   # ',' #   # ',' #   # ',' #   # ',' #   # ',' # # # ',' #  ## ','  #### ','       ','       ','       ']\n",
    "R=[' ####  ',' #   # ',' #   # ',' #   # ',' ####  ',' # #   ',' # #   ',' #  #  ',' #   # ','       ','       ','       ']\n",
    "S=['  ###  ',' #   # ',' #     ',' #     ','  ###  ','     # ','     # ',' #   # ','  ###  ','       ','       ','       ']\n",
    "T=[' ##### ','   #   ','   #   ','   #   ','   #   ','   #   ','   #   ','   #   ','   #   ','       ','       ','       ']\n",
    "U=[' #   # ',' #   # ',' #   # ',' #   # ',' #   # ',' #   # ',' #   # ',' #   # ','  ###  ','       ','       ','       ']\n",
    "V=[' #   # ',' #   # ',' #   # ',' #   # ',' #   # ','  # #  ','  # #  ','   #   ','   #   ','       ','       ','       ']\n",
    "W=['#     #', '#     #', '#     #', '#     #', '#     #', '#  #  #', '# # # #', '##   ##', '#     #','       ','       ','       ']\n",
    "X=[' #   # ',' #   # ','  # #  ','  # #  ','   #   ','  # #  ','  # #  ',' #   # ',' #   # ','       ','       ','       ']\n",
    "Y=[' #   # ',' #   # ',' #   # ','  # #  ','   #   ','   #   ','   #   ','   #   ','   #   ','       ','       ','       ']\n",
    "Z=[' ##### ','     # ','     # ','    #  ','   #   ','  #    ',' #     ',' #     ',' ##### ','       ','       ','       ']\n",
    "_=['       ','       ','       ','       ','       ','       ','       ','       ','       ','       ','       ','       ']\n",
    "a=['       ','       ','       ','   ### ','  #  # ',' #   # ',' #   # ',' #  ## ',' ### # ','       ','       ','       ']\n",
    "b=[' #     ',' #     ',' #     ',' ####  ',' #   # ',' #   # ',' #   # ',' #   # ',' ####  ','       ','       ','       ']\n",
    "c=['       ','       ','       ','  ###  ',' #   # ',' #     ',' #     ',' #     ','  #### ','       ','       ','       ']\n",
    "d=['     # ','     # ','     # ','  #### ',' #   # ',' #   # ',' #   # ',' #   # ','  #### ','       ','       ','       ']\n",
    "e=['       ','       ','       ','  ###  ',' #   # ',' ##### ',' #     ',' #     ','  #### ','       ','       ','       ']\n",
    "f=['    ## ','   #   ','   #   ',' ##### ','   #   ','   #   ','   #   ','   #   ','   #   ','   #   ','   #   ',' ##    ']\n",
    "g=['       ','       ','       ','  ###  ',' #   # ',' #   # ',' #   # ',' #  ## ','  #### ','     # ','     # ',' ####  ']\n",
    "h=[' #     ',' #     ',' #     ',' ####  ',' #   # ',' #   # ',' #   # ',' #   # ',' #   # ','       ','       ','       ']\n",
    "i=['       ','   #   ','       ','   #   ',' ###   ','   #   ','   #   ','   # # ',' ####  ','       ','       ','       ']\n",
    "j=['       ','     # ','       ','    ## ','     # ','     # ','     # ','     # ','     # ','     # ',' #   # ','  ### ']\n",
    "k=[' #     ',' #     ',' #     ',' #  #  ',' # #   ',' ##    ',' # #   ',' #  #  ',' #   # ','       ','       ','       ']\n",
    "l=['   #   ','   #   ','   #   ','   #   ','   #   ','   #   ','   #   ','   #   ','    ## ','       ','       ','       ']\n",
    "m=['       ','       ','       ',' ## #  ',' # # # ',' # # # ',' # # # ',' #   # ',' #   # ','       ','       ','       ']\n",
    "n=['       ','       ','       ',' ####  ',' #   # ',' #   # ',' #   # ',' #   # ',' #   # ','       ','       ','       ']\n",
    "o=['       ','       ','       ','  ###  ',' #   # ',' #   # ',' #   # ',' #   # ','  ###  ','       ','       ','       ']\n",
    "p=['       ','       ','       ',' ####  ',' #   # ',' #   # ',' #   # ',' #   # ',' ####  ',' #     ',' #     ',' #     ']\n",
    "q=['       ','       ','       ','  #### ',' #   # ',' #   # ',' #   # ',' #   # ','  #### ','     # ','     # ','     # ']\n",
    "r=['       ','       ','       ',' # ##  ',' ##  # ',' #     ',' #     ',' #     ',' #     ','       ','       ','       ']\n",
    "s=['       ','       ','       ','  #### ',' #     ','  ###  ','     # ','     # ',' ####  ','       ','       ','       ']\n",
    "t=['       ','  #    ','  #    ',' ##### ','  #    ','  #    ','  #    ','  #  # ','   ##  ','       ','       ','       ']\n",
    "u=['       ','       ','       ',' #   # ',' #   # ',' #   # ',' #   # ',' #  ## ','  ## # ','       ','       ','       ']\n",
    "v=['       ','       ','       ',' #   # ',' #   # ',' #   # ',' #   # ','  # #  ','   #   ','       ','       ','       ']\n",
    "w=['       ','       ','       ',' #   # ',' #   # ',' # # # ',' # # # ',' # # # ','  # #  ','       ','       ','       ']\n",
    "x=['       ','       ','       ',' #   # ','  # #  ','   #   ','   #   ','  # #  ',' #   # ','       ','       ','       ']\n",
    "y=['       ','       ','       ',' #   # ',' #   # ',' #   # ',' #   # ','  # ## ','   # # ','     # ',' #   # ','  ###  ']\n",
    "z=['       ','       ','       ',' ##### ','    #  ','   #   ','  #    ',' #     ',' ##### ','       ','       ','       ']"
   ]
  },
  {
   "cell_type": "markdown",
   "metadata": {},
   "source": [
    "The spacing in each element of the lists above gets lost in Markdown environment. In my code every element has a length of 7.\n",
    "\n",
    "Then I used `raw_input` to get character strings from the user and used `list()` function to turn it into a list of strings.[\\[4\\]](#jump4)[\\[5\\]](#jump5) The variale `Width` is set to chage lines if the string is too long. "
   ]
  },
  {
   "cell_type": "code",
   "execution_count": null,
   "metadata": {
    "collapsed": true
   },
   "outputs": [],
   "source": [
    "Width=input(\"How many characters would you like to see in one line?  \")\n",
    "# Width=20\n",
    "ans=list(raw_input('Input Anything You Like:  '))"
   ]
  },
  {
   "cell_type": "markdown",
   "metadata": {},
   "source": [
    "Then I wrote the commands to change lines by changing the initial list into a new list with each line an element of the new list. Every time a line is fulled, the elements are put inside the new list and the corresponding elements in the old list get deleted."
   ]
  },
  {
   "cell_type": "code",
   "execution_count": null,
   "metadata": {
    "collapsed": true
   },
   "outputs": [],
   "source": [
    "line=[None]*(len(ans)//Width)\n",
    "for cycle1 in range(len(ans)//Width):\n",
    "    line[cycle1]=ans[:Width]\n",
    "    del ans[:Width]\n",
    "if len(ans)!=0:\n",
    "    line.append(ans)"
   ]
  },
  {
   "cell_type": "markdown",
   "metadata": {},
   "source": [
    "And I defined a function `Conflate()` for convenience to show the pattern on the screen. It returns a list of the length 12. The n-th element of the list is the conflation of every character that should be in this line. We used the internal function `exec()`, which needs character strings as the argument and can turn the string into the python commands.[\\[4\\]](#jump4)[\\[5\\]](#jump5)"
   ]
  },
  {
   "cell_type": "code",
   "execution_count": null,
   "metadata": {
    "collapsed": true
   },
   "outputs": [],
   "source": [
    "def Conflate(arg1):\n",
    "    \"Conflate each line\"\n",
    "    arg2=len(arg1)\n",
    "    screen=['']*12\n",
    "    for cycle2 in range(12):\n",
    "        for cycle3 in range(arg2):\n",
    "            screen[cycle2]+=Alphabet[arg1[cycle3]][cycle2]\n",
    "    return(screen)"
   ]
  },
  {
   "cell_type": "markdown",
   "metadata": {},
   "source": [
    "At last it is time to show each line on the screen."
   ]
  },
  {
   "cell_type": "code",
   "execution_count": null,
   "metadata": {
    "collapsed": true
   },
   "outputs": [],
   "source": [
    "\n",
    "for cycle4 in range(len(line)): \n",
    "    for cycle5 in range(12):\n",
    "        print(Conflate(line[cycle4])[cycle5])\n",
    "\n",
    "raw_input(\"press <Enter>\")"
   ]
  },
  {
   "cell_type": "markdown",
   "metadata": {},
   "source": [
    "The last command can prevent quiting after showing the characters on the screen.\n",
    "\n",
    "### Level 1. Show my Name on the Screen\n",
    "\n",
    "![3_1](https://raw.githubusercontent.com/ShixingWang/computationalphysics_N2013301020050/master/Pictures/30_1.png)\n",
    "\n",
    "### Level 2. Show Arbitrary Characters on the Screen\n",
    "\n",
    "![3_2](https://raw.githubusercontent.com/ShixingWang/computationalphysics_N2013301020050/master/Pictures/3_2.png)\n",
    "\n",
    "Notice that our program can adjust the number of characters in each line and change lines if the string is too long.\n",
    "\n",
    "### Level 3. Animation of Characters\n",
    "\n",
    "Since we do not want the images to flash too fast we need to include the `time` module and `time.sleep()` function for time interval between frames. To clear the screen we need `os` module and `os.system('cls')` function.\n",
    "\n",
    "So at the begining, we include the modules."
   ]
  },
  {
   "cell_type": "code",
   "execution_count": null,
   "metadata": {
    "collapsed": true
   },
   "outputs": [],
   "source": [
    "import time\n",
    "import os"
   ]
  },
  {
   "cell_type": "markdown",
   "metadata": {},
   "source": [
    "In our animation we want the sentence to show up chracter by character, so there is one more procedure between the input from users and the list. I first defined the same list to contain the characters the user inputs, and created a new list in which one letter is added in every cycle.\n",
    "\n",
    "And every line below shoule be in the first `for` cycle. The head of the grogram are like below."
   ]
  },
  {
   "cell_type": "code",
   "execution_count": null,
   "metadata": {
    "collapsed": true
   },
   "outputs": [],
   "source": [
    "# Width=input(\"How many characters would you like to see in one line?  \")\n",
    "Width=10 #To make the characters in a 80*80 lattice\n",
    "ans1=list(raw_input('Input Anything You Like:  '))\n",
    "for cycle6 in range(len(ans1)+1):\n",
    "    ans=ans1[:cycle6]\n",
    "    line=['']*(len(ans)//Width)\n",
    "    for cycle1 in range(len(ans)//Width):\n",
    "        line[cycle1]=ans[:Width]\n",
    "        del ans[:Width]\n",
    "    if len(ans)!=0:\n",
    "        line.append(ans)"
   ]
  },
  {
   "cell_type": "markdown",
   "metadata": {},
   "source": [
    "At the last few lines"
   ]
  },
  {
   "cell_type": "code",
   "execution_count": null,
   "metadata": {
    "collapsed": true
   },
   "outputs": [],
   "source": [
    "    for cycle4 in range(len(line)): \n",
    "        for cycle5 in range(12):\n",
    "            print(Conflate(line[cycle4])[cycle5])\n",
    "    time.sleep(2) #The time intervel you  like between images. \n",
    "    os.system('cls')\n",
    "raw_input('press <Enter>')"
   ]
  },
  {
   "cell_type": "markdown",
   "metadata": {},
   "source": [
    "![3_3](https://raw.githubusercontent.com/ShixingWang/computationalphysics_N2013301020050/master/Pictures/3_3.gif)\n",
    "\n",
    "### Update on March 15, 2016\n",
    "\n",
    "After inspired by Li Yao, I decided to utilize the dictionary to connect the variables directly with the characters the users input. In this way we prevent the complex character string calculation in the function `exec()` and get able to percept blank directly from users.\n",
    "\n",
    "The change of the characters are simple. Only the `_` got changed into `blank`. And the dictionary are defined as:"
   ]
  },
  {
   "cell_type": "code",
   "execution_count": null,
   "metadata": {
    "collapsed": true
   },
   "outputs": [],
   "source": [
    "Alphabet={'A':A,'B':B,'C':C,'D':D,'E':E,'F':F,'G':G,'H':H,'I':I,'J':J,'K':K,'L':L,'M':M,'N':N,'O':O,'P':P,'Q':Q,'R':R,'S':S,'T':T,'U':U,'V':V,'W':W,'X':X,'Y':Y,'Z':Z,'a':a,'b':b,'c':c,'d':d,'e':e,'f':f,'g':g,'h':h,'i':i,'j':j,'k':k,'l':l,'m':m,'n':n,'o':o,'p':p,'q':q,'r':r,'s':s,'t':t,'u':u,'v':v,'w':w,'x':x,'y':y,'z':z,' ':Blank,':':Colon,'.':Dot,',':Comma,'!':Exclamation,'1':One,'2':Two,'3':Three,'4':Four,'5':Five,'6':Six,'7':Seven,'8':Eight,'9':Nine,'0':Zero}"
   ]
  },
  {
   "cell_type": "markdown",
   "metadata": {},
   "source": [
    "And as mentioned briefly before, the `Conflate()` function are changed to:"
   ]
  },
  {
   "cell_type": "code",
   "execution_count": null,
   "metadata": {
    "collapsed": true
   },
   "outputs": [],
   "source": [
    "def Conflate(arg1):\n",
    "    \"Conflate each line\"\n",
    "    arg2=len(arg1)\n",
    "    screen=['']*12\n",
    "    for cycle2 in range(12):\n",
    "        for cycle3 in range(arg2):\n",
    "            screen[cycle2]+=Alphabet[arg1[cycle3]][cycle2]\n",
    "    return(screen)"
   ]
  },
  {
   "cell_type": "markdown",
   "metadata": {},
   "source": [
    "#### New Level 2: Arbitrary Strings with Even Punctuations\n",
    "\n",
    "Since we can input pnctuations and numbers as well as blank, the final effect:\n",
    "\n",
    "![3_4](https://raw.githubusercontent.com/ShixingWang/computationalphysics_N2013301020050/master/Pictures/3_4.png)\n",
    "\n",
    "## Discussion and Future Direction\n",
    "\n",
    "This project shows briefly how our monitor works under the control of GPU. The meaningful code is not very long and I even think the hardest part is to tolerate the bore to design and input the list of the characters! \\_(:з」∠)_ The shining point, unmodestly speaking, is the ling changeing codes along with the `exec()` function. And this project elucidates how powerful list is in Python. Also as a novice of programming the control structures like `if` and `for` are good practices for me.\n",
    "\n",
    "However, in this process I failed to notice the convenience to use dictionary as the connection between what users input with our patterns. This is much more convenient for it circumvents the `exec()` function and the complex character computation inside it. Also, this has made great inconvience that users have to supplant \"\\_\" for blank, further preventing the project to expand to show the punctuations.\n",
    "\n",
    "### After Update on March 15, 2016\n",
    "\n",
    "Since we hace realized the quoting of patterns from the user input through the dictionary, it is time for us to compare the pros and cons between list and dictionary. Dictionary, needless to say, make it possible to input the puctuations and numbers because the name of variables cannot be signs and pure numbers. Additionally, it make the input of blank much more natural. However, the old version exhibited the strong power of list and the function of internal function `exec()` to cope with chracter strings. After typing much more patterns of the punctuations and numbers, I even missed the old codes where we could do a little fewer tasks with much simpler codes!\n",
    "\n",
    "\n",
    "## Acknowledgement\n",
    "\n",
    "The code in this project is finished all by myself. But I have to devote appreciation to my friend and roommate Li Yao (2013301020048). It was him who offered the idea to use dictionary to correspond each character the user inputs with the pattern we design. \n",
    "\n",
    "## Reference\n",
    "\n",
    "1. [Wikipedia contributors. \"Computer monitor.\" Wikipedia, The Free Encyclopedia, 4 Mar. 2016. Web. 13 Mar. 2016.](https://en.wikipedia.org/wiki/Computer_monitor)<span id=\"jump1\"></span>     \n",
    "\n",
    "2. [Wikipedia contributors. \"Graphics processing unit.\" Wikipedia, The Free Encyclopedia, 27 Jan. 2016. Web. 13 Mar. 2016.](https://en.wikipedia.org/wiki/Graphics_processing_unit) <span id=\"jump2\"></span>       \n",
    "\n",
    "3. [Wikipedia contributors. \"Graphical user interface.\" Wikipedia, The Free Encyclopedia, 27 Feb. 2016. Web. 13 Mar. 2016.](https://en.wikipedia.org/wiki/Graphical_user_interface)<span id=\"jump3\"></span>    \n",
    "\n",
    "4. Allen Downey. Think Python-How to Think Like a Computer Scientist. Green Tea Press, 2012.<span id=\"jump4\"></span>     \n",
    "\n",
    "5. Magnus Lie Hetland. Begining Python-from Novice to Professional (2nd Edition). Posts & Telecom Press, July 2010. <span id=\"jump5\"></span>    "
   ]
  }
 ],
 "metadata": {
  "kernelspec": {
   "display_name": "Python 2",
   "language": "python",
   "name": "python2"
  },
  "language_info": {
   "codemirror_mode": {
    "name": "ipython",
    "version": 2
   },
   "file_extension": ".py",
   "mimetype": "text/x-python",
   "name": "python",
   "nbconvert_exporter": "python",
   "pygments_lexer": "ipython2",
   "version": "2.7.11"
  }
 },
 "nbformat": 4,
 "nbformat_minor": 0
}
